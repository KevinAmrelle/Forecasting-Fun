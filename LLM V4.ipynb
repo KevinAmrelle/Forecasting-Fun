{
 "cells": [
  {
   "cell_type": "code",
   "execution_count": 3,
   "metadata": {},
   "outputs": [
    {
     "name": "stdout",
     "output_type": "stream",
     "text": [
      "Collecting accelerate\n",
      "  Downloading https://files.pythonhosted.org/packages/fe/03/08a2f414de4ce11fae93a079e4184a7397f34d956c894359ed801b89dae0/accelerate-0.19.0-py3-none-any.whl (219kB)\n",
      "Requirement already satisfied, skipping upgrade: torch>=1.6.0 in c:\\users\\kev\\anaconda3\\lib\\site-packages (from accelerate) (1.13.1)\n",
      "Requirement already satisfied, skipping upgrade: psutil in c:\\users\\kev\\anaconda3\\lib\\site-packages (from accelerate) (5.4.8)\n",
      "Requirement already satisfied, skipping upgrade: numpy>=1.17 in c:\\users\\kev\\anaconda3\\lib\\site-packages (from accelerate) (1.21.6)\n",
      "Requirement already satisfied, skipping upgrade: pyyaml in c:\\users\\kev\\anaconda3\\lib\\site-packages (from accelerate) (5.3.1)\n",
      "Requirement already satisfied, skipping upgrade: packaging>=20.0 in c:\\users\\kev\\anaconda3\\lib\\site-packages (from accelerate) (23.1)\n",
      "Requirement already satisfied, skipping upgrade: typing-extensions in c:\\users\\kev\\anaconda3\\lib\\site-packages (from torch>=1.6.0->accelerate) (4.6.3)\n",
      "Installing collected packages: accelerate\n",
      "Successfully installed accelerate-0.19.0\n"
     ]
    }
   ],
   "source": [
    "#!pip install torch\n",
    "#!conda install pytorch -c pytorch\n",
    "#!pip install pypdf2\n",
    "#!pip install --upgrade accelerate"
   ]
  },
  {
   "cell_type": "code",
   "execution_count": 6,
   "metadata": {},
   "outputs": [
    {
     "name": "stdout",
     "output_type": "stream",
     "text": [
      "4.29.2\n",
      "1.13.1+cpu\n"
     ]
    }
   ],
   "source": [
    "import transformers\n",
    "import torch\n",
    "print(transformers.__version__)\n",
    "print(torch.__version__)"
   ]
  },
  {
   "cell_type": "code",
   "execution_count": 23,
   "metadata": {},
   "outputs": [
    {
     "name": "stderr",
     "output_type": "stream",
     "text": [
      "Some weights of GPT2ForSequenceClassification were not initialized from the model checkpoint at gpt2 and are newly initialized: ['score.weight']\n",
      "You should probably TRAIN this model on a down-stream task to be able to use it for predictions and inference.\n"
     ]
    },
    {
     "data": {
      "text/html": [
       "\n",
       "    <div>\n",
       "      \n",
       "      <progress value='21' max='21' style='width:300px; height:20px; vertical-align: middle;'></progress>\n",
       "      [21/21 03:00, Epoch 3/3]\n",
       "    </div>\n",
       "    <table border=\"1\" class=\"dataframe\">\n",
       "  <thead>\n",
       " <tr style=\"text-align: left;\">\n",
       "      <th>Step</th>\n",
       "      <th>Training Loss</th>\n",
       "    </tr>\n",
       "  </thead>\n",
       "  <tbody>\n",
       "  </tbody>\n",
       "</table><p>"
      ],
      "text/plain": [
       "<IPython.core.display.HTML object>"
      ]
     },
     "metadata": {},
     "output_type": "display_data"
    },
    {
     "data": {
      "text/html": [
       "\n",
       "    <div>\n",
       "      \n",
       "      <progress value='1' max='1' style='width:300px; height:20px; vertical-align: middle;'></progress>\n",
       "      [1/1 : < :]\n",
       "    </div>\n",
       "    "
      ],
      "text/plain": [
       "<IPython.core.display.HTML object>"
      ]
     },
     "metadata": {},
     "output_type": "display_data"
    },
    {
     "name": "stdout",
     "output_type": "stream",
     "text": [
      "tensor([[0.3694, 0.0257, 0.6049]])\n"
     ]
    }
   ],
   "source": [
    "from transformers import GPT2Tokenizer, GPT2ForSequenceClassification, Trainer, TrainingArguments\n",
    "from torch.utils.data import Dataset, DataLoader\n",
    "import torch\n",
    "from PyPDF2 import PdfReader\n",
    "from sklearn.metrics import accuracy_score\n",
    "from torch.nn import Softmax\n",
    "\n",
    "class FedReserveDataset(Dataset):\n",
    "    def __init__(self, pdf_list, tokenizer, labels):\n",
    "        self.pdf_list = pdf_list\n",
    "        self.tokenizer = tokenizer\n",
    "        self.labels = labels\n",
    "\n",
    "    def read_pdf(self, file_path):\n",
    "        with open(file_path, 'rb') as file:\n",
    "            pdf_reader = PdfReader(file)\n",
    "            text = ''\n",
    "            for page_num in range(len(pdf_reader.pages)):\n",
    "                text += pdf_reader.pages[page_num].extract_text()\n",
    "        return text\n",
    "\n",
    "    def __len__(self):\n",
    "        return len(self.pdf_list)\n",
    "\n",
    "    def __getitem__(self, idx):\n",
    "        pdf = self.pdf_list[idx]\n",
    "        txt = self.read_pdf(pdf)\n",
    "        label = self.labels[idx]\n",
    "        encoding = self.tokenizer.encode_plus(\n",
    "            txt,\n",
    "            add_special_tokens=True,\n",
    "            max_length=512,\n",
    "            padding='max_length',\n",
    "            return_tensors='pt',\n",
    "            truncation=True\n",
    "        )\n",
    "        inputs = {\n",
    "            'input_ids': encoding['input_ids'].flatten(),\n",
    "            'attention_mask': encoding['attention_mask'].flatten(),\n",
    "            'labels': torch.tensor(label, dtype=torch.long)\n",
    "        }\n",
    "\n",
    "        return inputs\n",
    "\n",
    "def compute_metrics(pred):\n",
    "    labels = pred.label_ids\n",
    "    preds = pred.predictions.argmax(-1)\n",
    "    accuracy = accuracy_score(labels, preds)\n",
    "    return {\n",
    "        'accuracy': accuracy,\n",
    "    }\n",
    "\n",
    "tokenizer = GPT2Tokenizer.from_pretrained(\"gpt2\")\n",
    "tokenizer.pad_token = tokenizer.eos_token # Add padding token\n",
    "model = GPT2ForSequenceClassification.from_pretrained(\"gpt2\", num_labels=3) # Increase, Decrease, Kept Flat\n",
    "\n",
    "# Create your datasets (use your actual pdf paths and labels here, 2 raise, 1 flat, 0 decrease rate)\n",
    "train_dataset = FedReserveDataset([\"fomcminutes20180131_flat.pdf\", \"fomcminutes20180321_raise.pdf\", \"fomcminutes20180502_flat.pdf\", \"fomcminutes20180613_raise.pdf\", \"fomcminutes20180801_flat.pdf\", \"fomcminutes20180926_raise.pdf\",\"fomcminutes20181108_flat.pdf\" ], tokenizer, [1, 2, 1, 2, 1, 2, 1])\n",
    "eval_dataset = FedReserveDataset([\"fomcminutes20181219_raise.pdf\"], tokenizer, [2])\n",
    "\n",
    "training_args = TrainingArguments(\n",
    "    output_dir=\"./results\",\n",
    "    overwrite_output_dir=True,\n",
    "    num_train_epochs=3,  # Increase number of epochs\n",
    "    per_device_train_batch_size=1,\n",
    "    save_steps=10_000,\n",
    "    save_total_limit=2,\n",
    ")\n",
    "\n",
    "trainer = Trainer(\n",
    "    model=model,\n",
    "    args=training_args,\n",
    "    train_dataset=train_dataset,\n",
    "    eval_dataset=eval_dataset,\n",
    "    compute_metrics=compute_metrics,  # add this line\n",
    ")\n",
    "\n",
    "trainer.train()\n",
    "trainer.evaluate()  # Add this line\n",
    "model.save_pretrained(\"./results\")\n",
    "\n",
    "# Create an unseen dataset with the most recent Federal Reserve minutes\n",
    "unseen_dataset = FedReserveDataset([\"fomcminutes20181219_raise.pdf\"], tokenizer, [0]) \n",
    "\n",
    "# Get a prediction\n",
    "model.eval()  # Set the model to evaluation mode\n",
    "with torch.no_grad():  # We don't need gradients for prediction\n",
    "    for batch in unseen_dataset:\n",
    "        # Add batch dimension\n",
    "        for key in batch:\n",
    "            batch[key] = batch[key].unsqueeze(0)\n",
    "            \n",
    "        outputs = model(**batch)\n",
    "        logits = outputs.logits\n",
    "        probabilities = Softmax(dim=1)(logits)  # Convert logits to probabilities\n",
    "\n",
    "        print(probabilities)\n"
   ]
  },
  {
   "cell_type": "code",
   "execution_count": 24,
   "metadata": {},
   "outputs": [
    {
     "data": {
      "text/plain": [
       "<Figure size 640x480 with 1 Axes>"
      ]
     },
     "metadata": {},
     "output_type": "display_data"
    }
   ],
   "source": [
    "import matplotlib.pyplot as plt\n",
    "import numpy as np\n",
    "\n",
    "# ... (the rest of your code remains the same)\n",
    "\n",
    "# Get a prediction\n",
    "model.eval()  # Set the model to evaluation mode\n",
    "with torch.no_grad():  # We don't need gradients for prediction\n",
    "    for batch in unseen_dataset:\n",
    "        # Add batch dimension\n",
    "        for key in batch:\n",
    "            batch[key] = batch[key].unsqueeze(0)\n",
    "        \n",
    "        outputs = model(**batch)\n",
    "        logits = outputs.logits\n",
    "        probabilities = Softmax(dim=1)(logits)  # Convert logits to probabilities\n",
    "        probabilities = probabilities.numpy()[0]  # Convert tensor to numpy array\n",
    "\n",
    "        # Plotting\n",
    "        labels = ['Decrease', 'Kept Flat', 'Increase']\n",
    "        y_pos = np.arange(len(labels))\n",
    "\n",
    "        plt.bar(y_pos, probabilities, align='center', alpha=0.5)\n",
    "        plt.xticks(y_pos, labels)\n",
    "        plt.ylabel('Probability')\n",
    "        plt.title('Predicted Outcomes')\n",
    "\n",
    "        plt.show()\n"
   ]
  },
  {
   "cell_type": "code",
   "execution_count": 28,
   "metadata": {},
   "outputs": [
    {
     "data": {
      "image/png": "[encoded data removed]",
      "text/plain": [
       "<Figure size 432x288 with 1 Axes>"
      ]
     },
     "metadata": {
      "needs_background": "light"
     },
     "output_type": "display_data"
    }
   ],
   "source": [
    "plt.bar(y_pos, probabilities, align='center', alpha=0.5)\n",
    "plt.xticks(y_pos, labels)\n",
    "plt.ylabel('Probability')\n",
    "plt.title('Predicted Outcomes')\n",
    "\n",
    "#plt.savefig('output.png')  # Saves the plot as 'output.png'\n",
    "plt.show()\n",
    "plt.close()  # Closes the figure\n"
   ]
  },
  {
   "cell_type": "code",
   "execution_count": null,
   "metadata": {},
   "outputs": [],
   "source": []
  }
 ],
 "metadata": {
  "kernelspec": {
   "display_name": "Python 3",
   "language": "python",
   "name": "python3"
  },
  "language_info": {
   "codemirror_mode": {
    "name": "ipython",
    "version": 3
   },
   "file_extension": ".py",
   "mimetype": "text/x-python",
   "name": "python",
   "nbconvert_exporter": "python",
   "pygments_lexer": "ipython3",
   "version": "3.7.1"
  }
 },
 "nbformat": 4,
 "nbformat_minor": 2
}
